{
 "cells": [
  {
   "cell_type": "markdown",
   "id": "ab88a833-5b77-4154-8210-ac1714c7c636",
   "metadata": {
    "slideshow": {
     "slide_type": "slide"
    }
   },
   "source": [
    "# Lorem ipsum\n",
    "\n",
    "**Lorem ipsum** dolor sit amet, consectetur adipiscing elit. Nunc luctus\n",
    "bibendum felis dictum sodales."
   ]
  },
  {
   "cell_type": "code",
   "execution_count": 3,
   "id": "b62bfd99-2a11-4c25-a750-b7af21ad599d",
   "metadata": {},
   "outputs": [
    {
     "name": "stdout",
     "output_type": "stream",
     "text": [
      "hello\n"
     ]
    }
   ],
   "source": [
    "print(\"hello\")"
   ]
  },
  {
   "cell_type": "markdown",
   "id": "a84def79-e5f9-4cb8-9f05-09f4c939af73",
   "metadata": {},
   "source": [
    "## Pyout"
   ]
  },
  {
   "cell_type": "code",
   "execution_count": 4,
   "id": "0e97d206-6132-439c-9f4a-e2419431289f",
   "metadata": {
    "slideshow": {
     "slide_type": "slide"
    }
   },
   "outputs": [
    {
     "data": {
      "text/html": [
       "\n",
       "<script>\n",
       "console.log(\"hello\");\n",
       "</script>\n",
       "<b>HTML</b>\n"
      ],
      "text/plain": [
       "<IPython.core.display.HTML object>"
      ]
     },
     "execution_count": 4,
     "metadata": {},
     "output_type": "execute_result"
    }
   ],
   "source": [
    "from IPython.display import HTML\n",
    "HTML(\"\"\"\n",
    "<script>\n",
    "console.log(\"hello\");\n",
    "</script>\n",
    "<b>HTML</b>\n",
    "\"\"\")"
   ]
  },
  {
   "attachments": {},
   "cell_type": "markdown",
   "id": "9211a074-fdba-4f1d-b24c-b962cc60143b",
   "metadata": {},
   "source": [
    "## Image\n",
    "\n",
    "![Engelbart](https://history-computer.com/ModernComputer/Basis/images/Engelbart.jpg)\n",
    "\n",
    "This image\n",
    "\n",
    "<img src=\"ressourcen/Allgemeine-Problemlösestrategie_programming.v1.svg\" alt=\"Drawing\" style=\"width: 400px;\"/>\n",
    "\n",
    "![Strategie\\|200](attachment:ressourcen/Allgemeine-Problemlösestrategie_programming.v1.svg)\n",
    "will be included as a cell attachment."
   ]
  }
 ],
 "metadata": {
  "kernelspec": {
   "display_name": "jupyter",
   "language": "python",
   "name": "python3"
  },
  "language_info": {
   "codemirror_mode": {
    "name": "ipython",
    "version": 3
   },
   "file_extension": ".py",
   "mimetype": "text/x-python",
   "name": "python",
   "nbconvert_exporter": "python",
   "pygments_lexer": "ipython3",
   "version": "3.9.16"
  },
  "toc": {
   "base_numbering": 1,
   "nav_menu": {},
   "number_sections": true,
   "sideBar": true,
   "skip_h1_title": false,
   "title_cell": "Table of Contents",
   "title_sidebar": "Contents",
   "toc_cell": false,
   "toc_position": {},
   "toc_section_display": true,
   "toc_window_display": false
  },
  "varInspector": {
   "cols": {
    "lenName": 16,
    "lenType": 16,
    "lenVar": 40
   },
   "kernels_config": {
    "python": {
     "delete_cmd_postfix": "",
     "delete_cmd_prefix": "del ",
     "library": "var_list.py",
     "varRefreshCmd": "print(var_dic_list())"
    },
    "r": {
     "delete_cmd_postfix": ") ",
     "delete_cmd_prefix": "rm(",
     "library": "var_list.r",
     "varRefreshCmd": "cat(var_dic_list()) "
    }
   },
   "types_to_exclude": [
    "module",
    "function",
    "builtin_function_or_method",
    "instance",
    "_Feature"
   ],
   "window_display": false
  },
  "vscode": {
   "interpreter": {
    "hash": "bf0bcaf812c2a415b8567492121e732e272f4b5cc8f939101421e34f764b0903"
   }
  }
 },
 "nbformat": 4,
 "nbformat_minor": 5
}
